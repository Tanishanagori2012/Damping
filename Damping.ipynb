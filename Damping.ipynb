{
  "nbformat": 4,
  "nbformat_minor": 0,
  "metadata": {
    "colab": {
      "provenance": [],
      "include_colab_link": true
    },
    "kernelspec": {
      "name": "python3",
      "display_name": "Python 3"
    },
    "language_info": {
      "name": "python"
    }
  },
  "cells": [
    {
      "cell_type": "markdown",
      "metadata": {
        "id": "view-in-github",
        "colab_type": "text"
      },
      "source": [
        "<a href=\"https://colab.research.google.com/github/Tanishanagori2012/Damping/blob/main/Damping.ipynb\" target=\"_parent\"><img src=\"https://colab.research.google.com/assets/colab-badge.svg\" alt=\"Open In Colab\"/></a>"
      ]
    },
    {
      "cell_type": "code",
      "execution_count": null,
      "metadata": {
        "id": "cQb_bMoMjalU"
      },
      "outputs": [],
      "source": [
        "import math\n",
        "import plotly.express as px\n",
        "import matplotlib.pyplot as plt\n"
      ]
    },
    {
      "cell_type": "code",
      "source": [
        "a_input = float(input('enter the value of a :' ))\n",
        "b_input = float(input('enter the value of b :'))\n",
        "c_input = float(input('enter the value of c :'))\n",
        "xo = float(input('enter the value of x0 :'))\n",
        "vo = float(input('enter the value of y0 :'))"
      ],
      "metadata": {
        "id": "rEUPOv-oZ0FU"
      },
      "execution_count": null,
      "outputs": []
    },
    {
      "cell_type": "code",
      "source": [
        "# use this shell for critical case\n",
        "a_input = 1\n",
        "b_input = 2\n",
        "c_input = 1\n",
        "alpha = (b_input) / (2 * a_input)\n",
        "beta = math.sqrt(abs((b_input ** 2 / 4 * a_input ** 2) - (c_input / a_input)))\n",
        "lamda_one = - alpha  + beta\n",
        "lamda_two = - alpha - beta\n",
        "xo = 10\n",
        "vo = 10"
      ],
      "metadata": {
        "id": "_fXiy4RMZ8T2"
      },
      "execution_count": null,
      "outputs": []
    },
    {
      "cell_type": "code",
      "source": [
        "def type_damping(a, b, c):\n",
        "  \"\"\"\n",
        "  This function returns which type of damping will be there on input a, b, c\n",
        "  >>> type_damping(19,90,100)\n",
        "  over damped\n",
        "  >>> type_damping(1,1,90)\n",
        "  under damped\n",
        "  >>> type_damping(1,2,1)\n",
        "  critical damped\n",
        "  parameter a: coefficient of x\n",
        "  parameter c: constant \n",
        "  parameter b: coefficient of x^2\n",
        "  precondtion: a,b,c must be of type int\n",
        "  \n",
        "  \"\"\"\n",
        "  D = b ** 2 - (4 * a * c) #descriminant\n",
        "  if D > 0: #when roots are different\n",
        "    return 'Over damped'\n",
        "  elif D == 0: #roots are equal\n",
        "    return 'critical damped'\n",
        "  else: # roots are imaginary, and distinct\n",
        "    return 'under damped'\n",
        "print(type_damping(a_input, b_input ,c_input))"
      ],
      "metadata": {
        "colab": {
          "base_uri": "https://localhost:8080/"
        },
        "id": "vVSCGqPLaaym",
        "outputId": "a7b32fda-04ef-4cd1-f404-050b4ef193e1"
      },
      "execution_count": null,
      "outputs": [
        {
          "output_type": "stream",
          "name": "stdout",
          "text": [
            "critical damped\n"
          ]
        }
      ]
    },
    {
      "cell_type": "code",
      "source": [
        "lst_t = [i / 10 for i in range(100)]        #accumulator"
      ],
      "metadata": {
        "id": "ZyAL6DmwdGlE"
      },
      "execution_count": null,
      "outputs": []
    },
    {
      "cell_type": "code",
      "source": [
        "def graph(xo,vo):\n",
        "  \"\"\"\n",
        "  Returns : A list of roots of the damping equation\n",
        "  Parameter xo: it is initial value if x(0)\n",
        "  Precondition : it must be a numerical value\n",
        "  Parameter xo: it is initial value if x'(0)\n",
        "  Precondition : it must be a numerical value\n",
        "\n",
        "  \"\"\"\n",
        "  lst_x = []        #accumulator\n",
        "  if type_damping(a_input, b_input ,c_input) == 'Over damped':\n",
        "    d_one = (vo - lamda_two * xo) / (lamda_one - lamda_two)\n",
        "    d_two = (vo - lamda_one * xo) / (lamda_two - lamda_one)\n",
        "    for i in range(len(lst_t)):  \n",
        "      x = d_one * math.exp((-alpha + beta) * lst_t[i]) + d_two * math.exp ((-alpha - beta) * lst_t[i])\n",
        "      lst_x.append(x)\n",
        "\n",
        "  elif  type_damping(a_input, b_input ,c_input) == 'critical damped':\n",
        "    for i in range(len(lst_t)):\n",
        "      x = math.exp(-b_input * lst_t[i] / (2 * a_input) ) * (xo + (vo - lamda_one * xo) * lst_t[i])\n",
        "      lst_x.append(x)\n",
        "\n",
        "  else:\n",
        "    for i in range(len(lst_t)):\n",
        "      x = math.exp(-alpha * lst_t[i]) * (xo * math.cos(beta * lst_t[i]) + ((vo +alpha * xo) * math.sin(beta * lst_t[i]) / beta))\n",
        "      lst_x.append(x) \n",
        "  return lst_x\n",
        "\n"
      ],
      "metadata": {
        "id": "RkohpOhun0db"
      },
      "execution_count": null,
      "outputs": []
    },
    {
      "cell_type": "code",
      "source": [
        "plt.plot(lst_t,graph(xo,vo))\n",
        "print('critical damping')"
      ],
      "metadata": {
        "colab": {
          "base_uri": "https://localhost:8080/",
          "height": 282
        },
        "id": "xIuK-PCNdDhd",
        "outputId": "06c3b57a-b381-43ad-c803-bf3d1f991b12"
      },
      "execution_count": null,
      "outputs": [
        {
          "output_type": "stream",
          "name": "stdout",
          "text": [
            "critical damping\n"
          ]
        },
        {
          "output_type": "display_data",
          "data": {
            "text/plain": [
              "<Figure size 432x288 with 1 Axes>"
            ],
            "image/png": "[encoded data removed]"
          },
          "metadata": {
            "needs_background": "light"
          }
        }
      ]
    },
    {
      "cell_type": "code",
      "source": [
        "# over damping\n",
        "a_input = 1\n",
        "b_input = 19\n",
        "c_input = 90\n",
        "alpha = (b_input) / (2 * a_input)\n",
        "beta = math.sqrt(abs((b_input ** 2 / 4 * a_input ** 2) - (c_input / a_input)))\n",
        "lamda_one = - alpha  + beta\n",
        "lamda_two = - alpha - beta\n",
        "xo = 1\n",
        "vo = 100"
      ],
      "metadata": {
        "id": "VTRn4JnsZlqS"
      },
      "execution_count": null,
      "outputs": []
    },
    {
      "cell_type": "code",
      "source": [
        "lst_t = [i / 100 for i in range(100)]        #accumulator"
      ],
      "metadata": {
        "id": "kNtSSi0Gaa0R"
      },
      "execution_count": null,
      "outputs": []
    },
    {
      "cell_type": "code",
      "source": [
        "plt.plot(lst_t,graph(xo,vo))\n",
        "print('overdamping')"
      ],
      "metadata": {
        "colab": {
          "base_uri": "https://localhost:8080/",
          "height": 282
        },
        "id": "XuAECKbEaduB",
        "outputId": "fa9d9fd3-dc31-4f2b-d4cf-43785f17f751"
      },
      "execution_count": null,
      "outputs": [
        {
          "output_type": "stream",
          "name": "stdout",
          "text": [
            "overdamping\n"
          ]
        },
        {
          "output_type": "display_data",
          "data": {
            "text/plain": [
              "<Figure size 432x288 with 1 Axes>"
            ],
            "image/png": "[encoded data removed]"
          },
          "metadata": {
            "needs_background": "light"
          }
        }
      ]
    },
    {
      "cell_type": "code",
      "source": [
        "# under damping\n",
        "a_input = 1\n",
        "b_input = 2\n",
        "c_input = 89\n",
        "alpha = (b_input) / (2 * a_input)\n",
        "beta = math.sqrt(abs((b_input ** 2 / 4 * a_input ** 2) - (c_input / a_input)))\n",
        "lamda_one = - alpha  + beta\n",
        "lamda_two = - alpha - beta\n",
        "xo = -100\n",
        "vo = 100"
      ],
      "metadata": {
        "id": "Wk6TMPXDarxZ"
      },
      "execution_count": null,
      "outputs": []
    },
    {
      "cell_type": "code",
      "source": [
        "lst_t = [i / 100 for i in range(1000)]        #accumulator"
      ],
      "metadata": {
        "id": "5a8n4cCya59X"
      },
      "execution_count": null,
      "outputs": []
    },
    {
      "cell_type": "code",
      "source": [
        "plt.plot(lst_t,graph(xo,vo))\n",
        "print('underdamping')"
      ],
      "metadata": {
        "id": "4d5sP_xLa8_N",
        "colab": {
          "base_uri": "https://localhost:8080/",
          "height": 282
        },
        "outputId": "74ef65ca-359a-41d8-a7ba-84ac1204f25d"
      },
      "execution_count": null,
      "outputs": [
        {
          "output_type": "stream",
          "name": "stdout",
          "text": [
            "underdamping\n"
          ]
        },
        {
          "output_type": "display_data",
          "data": {
            "text/plain": [
              "<Figure size 432x288 with 1 Axes>"
            ],
            "image/png": "[encoded data removed]"
          },
          "metadata": {
            "needs_background": "light"
          }
        }
      ]
    }
  ]
}